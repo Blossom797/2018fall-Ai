{
 "cells": [
  {
   "cell_type": "markdown",
   "metadata": {},
   "source": [
    "# Introduction to Artificial Intelligence for Non Computing"
   ]
  },
  {
   "cell_type": "markdown",
   "metadata": {},
   "source": [
    "## Practical 3 (weeks 5 - 6)"
   ]
  },
  {
   "cell_type": "markdown",
   "metadata": {},
   "source": [
    "The following links provide additional information about data analysis , machine learning and Numpy"
   ]
  },
  {
   "cell_type": "markdown",
   "metadata": {},
   "source": [
    "Python data analysis: https://www.imooc.com/learn/843\n",
    "machine learning: https://www.imooc.com/learn/717\n",
    "Numpy :https://www.imooc.com/learn/943"
   ]
  },
  {
   "cell_type": "markdown",
   "metadata": {},
   "source": [
    "#### Theory Questions"
   ]
  },
  {
   "cell_type": "markdown",
   "metadata": {},
   "source": [
    "1\\.Which of the following are true and which are false? Give brief explanations.\n",
    "- a. In a fully observable, turn-taking, zero-sum game between two perfectly rational players,it does not help the first player to know what strategy the second player is using—that is, what move the second player will make, given the first player's move.\n",
    "- b. In a partially observable, turn-taking, zero-sum game between two perfectly rational players, it does not help the first player to know what move the second player will make, given the first player's move.\n",
    "- c. A perfectly rational backgammon agent never loses.\n",
    "\n",
    "See textbook Chapter6 24.6"
   ]
  },
  {
   "cell_type": "markdown",
   "metadata": {},
   "source": [
    "_your answer here..._ \n",
    "Question1 is false ,while q2 is ture. In fully observable game, the action first player do will affect what the next agent do, but partially observable game will have it's best choice no matter what the other one do.\n",
    "Backgammon game is a fully observable,turn-taking,zero-sum game. As it is called perfectly rational agent, we can think that it don't have any bug,can calculate win rate in each point.\n",
    "***"
   ]
  },
  {
   "cell_type": "markdown",
   "metadata": {},
   "source": [
    "2\\.Define in your own words the terms constraint, backtracking search, arc consistency,backjumping, min-conflicts, and cycle cutset.\n",
    "\n",
    "See textbook Chapter6 6.16"
   ]
  },
  {
   "cell_type": "markdown",
   "metadata": {},
   "source": [
    "_your answer here..._ \n",
    "constraint: The search problem have some rules.\n",
    "backtracking search: Enumerate possible solutions,when there is no possilbe value assigning to the variable,then backtrack to previous one.\n",
    "arc consistency:All values in the variable range are satisfying two element constraint in a CSP.\n",
    "backjumping:When backtacking don't get the solution in one loop,the step to back to the previous value.\n",
    "min-conflicts:Randomly give values to variables,then calculate the conflict they have. Let the minimize value be the input for next loop.\n",
    "cycle cutset:Choose a set S in CSP,make the constraint graph be a tree after we delete set S. S is called cycle cutset.\n",
    "***"
   ]
  },
  {
   "cell_type": "markdown",
   "metadata": {},
   "source": [
    "3\\.Explain why it is a good heuristic to choose the variable that is most constrained but the value that is least constraining in a CSP search.\n",
    "\n",
    "See textbook Chapter6 6.9"
   ]
  },
  {
   "cell_type": "markdown",
   "metadata": {},
   "source": [
    "_your answer here..._ \n",
    "The most constrained variable is more quickly to get the failure case and prune the tree. And this way gives it's neighbors more values to choose.\n",
    "***"
   ]
  },
  {
   "cell_type": "markdown",
   "metadata": {},
   "source": [
    "4\\.Consider the following procedure for choosing moves in games with chance nodes: \n",
    "- 1、Generate some dice-roll sequences (say, 50) down to a suitable depth (say, 8).\n",
    "- 2、With known dice rolls, the game tree becomes deterministic. For each dice-roll sequence,solve the resulting deterministic game tree using alpha-beta.\n",
    "- 3、Use the results to estimate the value of each move and to choose the best.Will this procedure work well? Why (or why not)?\n",
    "\n",
    "See textbook Chapter5 5.19"
   ]
  },
  {
   "cell_type": "markdown",
   "metadata": {},
   "source": [
    "_your answer here..._ \n",
    "\n",
    "***"
   ]
  },
  {
   "cell_type": "markdown",
   "metadata": {},
   "source": [
    "5\\. Now,please consider this game:  there are three plates A, B and C, each plate has three bills. A puts 1, 20, 50; B puts 5, 10, 100; C puts 1, 5, 20. All units are \"Yuan\". There are two persons A and B, and two of them can check out three plates and banknotes .（ A is ourself, The other is B）\n",
    "The game is divided into three steps: \n",
    "- 1、A select a plate from three plate.\n",
    "- 2、B take out two banknotes from A selected plate,and give the  banknotes to A.  \n",
    "- 3、A take one of the two banknotes, and take it away.among,A want to get the max banknotes, B want to let A to get the min.\n",
    "\n",
    "Try to understand the minimax algorithm，you can click the link:https://blog.csdn.net/tangchenyi/article/details/22920031"
   ]
  },
  {
   "cell_type": "markdown",
   "metadata": {},
   "source": [
    "_your answer here..._ \n",
    "\n",
    "***"
   ]
  },
  {
   "cell_type": "markdown",
   "metadata": {},
   "source": [
    "### Programming Excercises"
   ]
  },
  {
   "cell_type": "markdown",
   "metadata": {},
   "source": [
    "1\\. Guess number(Single number): please generate a randomly number  with the function (random), then ask someone to guess the number,I think we should give the corresponding hint, otherwise it will be very difficult to guess the number.the game will be over untill you get the right number."
   ]
  },
  {
   "cell_type": "code",
   "execution_count": null,
   "metadata": {},
   "outputs": [],
   "source": [
    "## write your answer here!\n",
    "import random\n",
    "a=random.randint(1,10)\n",
    "str = int(input(\"Enter your guess number: \"))\n",
    "while str!= a:\n",
    "    if str>a :\n",
    "        str = int(input(\"Larger than the ture number. Please enter your guess number: \"))\n",
    "    else:\n",
    "        str = int(input(\"Smaller than the ture number. Please enter your guess number: \"))\n",
    "print(\"True number is %d\" % a)"
   ]
  },
  {
   "cell_type": "markdown",
   "metadata": {},
   "source": [
    "# 2\\.if you had understand the guess single number games,Congratulates,next is the guess three number games,Maybe you can do it well.But this is a different way of thinking. \n",
    "first : we need generate three numbers,there are most ten times chances give  you to guess the number,of course,we also give you some cue.\n",
    "\n",
    "- 'When I say:-->It means:\n",
    "- 'error--> The 3 numbers are not in the mystical numbers.'\n",
    "- 'Only the number is correct --> the number is right , but the position is not right.'\n",
    "- 'Absolutely right--> numbers is right and the position also right.'\n",
    "\n",
    "Maybe it's better for you to understand the rule well through see the picture.\n",
    "<div style=\"float:left;\" ><img src=\"img/p1.png\" width=\"400\" height=\"300\" >"
   ]
  },
  {
   "cell_type": "code",
   "execution_count": null,
   "metadata": {},
   "outputs": [],
   "source": [
    "## write your answer here!\n",
    "import random\n",
    "print(\"there are 3 numbers, please Guess what it is.\\n\\\n",
    "The clue I gave is :\\n\\\n",
    "      When I say:               It means：\\n\\\n",
    "      error--> The 3 numbers are not in the mystical numbers.\\n\\\n",
    "      Only the number is correct --> the number is right , but the position is not right.\\n\\\n",
    "      Absolutely right--> numbers is right and the position also right.\")\n",
    "nList = [random.randint(1,9) for x in range(3)]\n",
    "n=1\n",
    "str = input(\"This is the 1 time: \")\n",
    "list1 = list(str)\n",
    "list1 = list(map(int,list1))\n",
    "rList=['error','error','error']\n",
    "while n<=11 and list1 != nList :\n",
    "    n+=1\n",
    "    for index1 in range(len(list1)):\n",
    "        for index2 in range(len(nList)):\n",
    "            if list1[index1]==nList[index2] and index1==index2:\n",
    "                rList[index1]=\"Absolutely right\"\n",
    "                break\n",
    "            if list1[index1]==nList[index2] and index1!=index2:\n",
    "                rList[index1]=\"Only the number is correct\"\n",
    "                break\n",
    "        else: rList[index1]=\"error\"\n",
    "    print(rList)\n",
    "    str = input(\"This is the %d time: \" % n)\n",
    "    list1 = list(str)\n",
    "    list1 = list(map(int,list1))\n",
    "print(\"Congratulations!\")\n",
    "     "
   ]
  },
  {
   "cell_type": "markdown",
   "metadata": {},
   "source": [
    "3\\.please try using Python's Tkinter to make a visual interface（GUI）.if you don't know anything.Maybe you can refer to the below interface.and implement it by code.\n",
    "\n",
    "<div style=\"float:left;\" ><img src=\"img/p2.png\" width=\"200\" height=\"200\" >"
   ]
  },
  {
   "cell_type": "code",
   "execution_count": null,
   "metadata": {},
   "outputs": [],
   "source": [
    "## write your answer here!\n",
    "from tkinter import *\n",
    "\n",
    "root = Tk()\n",
    "li = ['C','python','php','html','SQL','java']\n",
    "movie = ['CSS','jQuery','Bootstrap']\n",
    "listb = Listbox(root)\n",
    "listb2 = Listbox(root)\n",
    "for item in li :\n",
    "    listb.insert(0,item)\n",
    "\n",
    "for item in movie:\n",
    "    listb2.insert(0,item)\n",
    "    \n",
    "listb.pack()\n",
    "listb2.pack()\n",
    "root.mainloop()"
   ]
  },
  {
   "cell_type": "markdown",
   "metadata": {},
   "source": [
    "4\\.Through the initial trial of Tkinter,    please write a simple calculator.\n",
    "\n",
    "<div style=\"float:left;\" ><img src=\"img/p3.png\" width=\"180\" height=\"200\" center=\"left\"></div>\n",
    "<div style=\"float:left;\" ><img src=\"img/p4.png\" width=\"180\" height=\"200\" center=\"right\" ></div>"
   ]
  },
  {
   "cell_type": "code",
   "execution_count": 8,
   "metadata": {},
   "outputs": [
    {
     "name": "stdout",
     "output_type": "stream",
     "text": [
      "ok\n"
     ]
    }
   ],
   "source": [
    "## write your answer here!\n",
    "from tkinter import *\n",
    "import math\n",
    "\n",
    "def frame(root, side):\n",
    "    w =Frame(root)\n",
    "    w.pack(side = side ,expand =YES, fill= BOTH)\n",
    "    return w\n",
    "\n",
    "def button(root,side,text, command=None):\n",
    "    w = Button(root,text= text,command= command)\n",
    "    w.pack(side= side, expand = YES, fill = BOTH)\n",
    "    return w\n",
    "\n",
    "class Calculator(Frame):\n",
    "    def __init__(self):\n",
    "        \n",
    "        Frame.__init__(self)\n",
    "        \n",
    "        self.pack(expand = YES, fill = BOTH)\n",
    "        self.master.title('Simple Calculator')\n",
    "        \n",
    "        display = StringVar()\n",
    "        \n",
    "        Entry(self, relief = SUNKEN,\n",
    "              textvariable = display).pack(side = TOP, expand = YES,\n",
    "                                           fill = BOTH)\n",
    "\n",
    "        for key in('123', '456', '789', '-0.'):\n",
    "            keyF = frame(self, TOP)\n",
    "            for char in key:\n",
    "                button(keyF, LEFT, char, lambda w = display, c = char:w.set(w.get() + c))\n",
    "\n",
    "        opsF = frame(self, TOP)\n",
    "        for char in '+-*/=':\n",
    "            if char == '=':\n",
    "                btn = button(opsF, LEFT, char)\n",
    "                btn.bind('<ButtonRelease - 1>', lambda e, s = self, w = display:s.calc(w), '+')\n",
    " \n",
    "            else:\n",
    "                btn = button(opsF, LEFT, char, lambda w = display, s = '%s' %char:w.set(w.get() + s))\n",
    "\n",
    "        clearF = frame(self, BOTTOM)\n",
    "        button(clearF, LEFT, 'clear', lambda w = display:w.set(''))\n",
    " \n",
    "\n",
    "    def calc(self, display):\n",
    "        try:\n",
    "            display.set(eval(display.get()))\n",
    "        except:\n",
    "            display.set(\"ERROR\")\n",
    "\n",
    "if __name__ == '__main__':\n",
    "    print('ok')\n",
    "    Calculator().mainloop()\n"
   ]
  },
  {
   "cell_type": "markdown",
   "metadata": {},
   "source": [
    "5\\.Ball game:Python's pinball game, which can realize the game function of the keyboard control bottom baffle moving collision ball similar to table tennis game. \n",
    "\n",
    "<div style=\"float:left;\" ><img src=\"img/p5.png\" width=\"200\" height=\"200\" center=\"left\"></div>\n",
    "<div style=\"float:left;\" ><img src=\"img/p6.png\" width=\"200\" height=\"200\" center=\"right\" ></div>\n"
   ]
  },
  {
   "cell_type": "markdown",
   "metadata": {},
   "source": [
    "this is a step:how to install the matplotlib,you can reference this link:https://blog.csdn.net/not_give_up_/article/details/79058272\n",
    "1. Ball Class\n",
    "    draw is responsible for moving Ball\n",
    "    Collision detection, bounce, Ball detection of Paddle \n",
    "2. Paddle Class\n",
    "    draw is responsible for moving Paddle\n",
    "    Collision detection to determine whether or not to continue ,Monitor keyboard events\n",
    "3. main cycle\n",
    "    Drawing the Ball and Paddle"
   ]
  },
  {
   "cell_type": "code",
   "execution_count": 3,
   "metadata": {},
   "outputs": [
    {
     "ename": "TclError",
     "evalue": "can't invoke \"update\" command: application has been destroyed",
     "output_type": "error",
     "traceback": [
      "\u001b[1;31m---------------------------------------------------------------------------\u001b[0m",
      "\u001b[1;31mTclError\u001b[0m                                  Traceback (most recent call last)",
      "\u001b[1;32m<ipython-input-3-0d323b4ace9d>\u001b[0m in \u001b[0;36m<module>\u001b[1;34m()\u001b[0m\n\u001b[0;32m     85\u001b[0m         \u001b[0mball\u001b[0m\u001b[1;33m.\u001b[0m\u001b[0mdraw\u001b[0m\u001b[1;33m(\u001b[0m\u001b[1;33m)\u001b[0m\u001b[1;33m\u001b[0m\u001b[0m\n\u001b[0;32m     86\u001b[0m         \u001b[0mpaddle\u001b[0m\u001b[1;33m.\u001b[0m\u001b[0mdraw\u001b[0m\u001b[1;33m(\u001b[0m\u001b[1;33m)\u001b[0m\u001b[1;33m\u001b[0m\u001b[0m\n\u001b[1;32m---> 87\u001b[1;33m     \u001b[0mtk\u001b[0m\u001b[1;33m.\u001b[0m\u001b[0mupdate_idletasks\u001b[0m\u001b[1;33m(\u001b[0m\u001b[1;33m)\u001b[0m\u001b[1;33m\u001b[0m\u001b[0m\n\u001b[0m\u001b[0;32m     88\u001b[0m     \u001b[0mtk\u001b[0m\u001b[1;33m.\u001b[0m\u001b[0mupdate\u001b[0m\u001b[1;33m(\u001b[0m\u001b[1;33m)\u001b[0m\u001b[1;33m\u001b[0m\u001b[0m\n\u001b[0;32m     89\u001b[0m     \u001b[0mtime\u001b[0m\u001b[1;33m.\u001b[0m\u001b[0msleep\u001b[0m\u001b[1;33m(\u001b[0m\u001b[1;36m0.01\u001b[0m\u001b[1;33m)\u001b[0m\u001b[1;33m\u001b[0m\u001b[0m\n",
      "\u001b[1;32me:\\ProgramData\\Anaconda3\\lib\\tkinter\\__init__.py\u001b[0m in \u001b[0;36mupdate_idletasks\u001b[1;34m(self)\u001b[0m\n\u001b[0;32m   1177\u001b[0m         \u001b[0mwill\u001b[0m \u001b[0mupdate\u001b[0m \u001b[0mthe\u001b[0m \u001b[0mdisplay\u001b[0m \u001b[0mof\u001b[0m \u001b[0mwindows\u001b[0m \u001b[0mbut\u001b[0m \u001b[1;32mnot\u001b[0m \u001b[0mprocess\u001b[0m \u001b[0mevents\u001b[0m \u001b[0mcaused\u001b[0m \u001b[0mby\u001b[0m\u001b[1;33m\u001b[0m\u001b[0m\n\u001b[0;32m   1178\u001b[0m         the user.\"\"\"\n\u001b[1;32m-> 1179\u001b[1;33m         \u001b[0mself\u001b[0m\u001b[1;33m.\u001b[0m\u001b[0mtk\u001b[0m\u001b[1;33m.\u001b[0m\u001b[0mcall\u001b[0m\u001b[1;33m(\u001b[0m\u001b[1;34m'update'\u001b[0m\u001b[1;33m,\u001b[0m \u001b[1;34m'idletasks'\u001b[0m\u001b[1;33m)\u001b[0m\u001b[1;33m\u001b[0m\u001b[0m\n\u001b[0m\u001b[0;32m   1180\u001b[0m     \u001b[1;32mdef\u001b[0m \u001b[0mbindtags\u001b[0m\u001b[1;33m(\u001b[0m\u001b[0mself\u001b[0m\u001b[1;33m,\u001b[0m \u001b[0mtagList\u001b[0m\u001b[1;33m=\u001b[0m\u001b[1;32mNone\u001b[0m\u001b[1;33m)\u001b[0m\u001b[1;33m:\u001b[0m\u001b[1;33m\u001b[0m\u001b[0m\n\u001b[0;32m   1181\u001b[0m         \"\"\"Set or get the list of bindtags for this widget.\n",
      "\u001b[1;31mTclError\u001b[0m: can't invoke \"update\" command: application has been destroyed"
     ]
    }
   ],
   "source": [
    "## write your answer here!\n",
    "from tkinter import *\n",
    "import random\n",
    "import time\n",
    "\n",
    "class Ball:\n",
    "    def __init__(self,canvas,paddle,color):\n",
    "        self.canvas=canvas\n",
    "        self.paddle=paddle\n",
    "        self.id=canvas.create_oval(10,10,25,25,fill=color)\n",
    "        self.canvas.move(self.id,245,100)\n",
    "\n",
    "        starts=[-3,-2,-1,1,2,3]\n",
    "        random.shuffle(starts)\n",
    "        self.x=starts[0]\n",
    "        self.y=-3\n",
    "        self.canvas_height=self.canvas.winfo_height()\n",
    "        self.canvas_width=self.canvas.winfo_width()\n",
    "        self.hit_bottom=False\n",
    "    def draw(self):\n",
    "        self.canvas.move(self.id,self.x,self.y)\n",
    "        pos= self.canvas.coords(self.id)\n",
    "        if pos[1]<=0:\n",
    "            self.y=1\n",
    "        if pos[3]>=self.canvas_height:\n",
    "            self.hit_bottom=True\n",
    "            self.y=-1\n",
    "        if self.hit_paddle(pos)==True:\n",
    "            self.y=-3\n",
    "                           \n",
    "        if pos[0]<=0:\n",
    "            self.x=3\n",
    "        if pos[2]>=self.canvas_width:\n",
    "            self.x=-3\n",
    "\n",
    "    def hit_paddle(self,pos):\n",
    "        paddle_pos=self.canvas.coords(self.paddle.id)\n",
    "        if pos[2]>=paddle_pos[0] and pos[0] <=paddle_pos[2]:\n",
    "            if pos[3] >= paddle_pos[1] and pos[3] <=paddle_pos[3]:\n",
    "                return True\n",
    "        return False\n",
    "\n",
    "class Paddle:\n",
    "    def __init__(self,canvas,color):\n",
    "        self.canvas=canvas\n",
    "        self.id=canvas.create_rectangle(0,0,100,10,fill=color)\n",
    "        self.canvas.move(self.id,200,300)\n",
    "        self.x=0\n",
    "        self.canvas_width=self.canvas.winfo_width()\n",
    "        self.canvas.bind_all('<Key-Left>',self.turn_left)\n",
    "        self.canvas.bind_all('<Key-Right>',self.turn_right)\n",
    "    def draw(self):\n",
    "        defintion=True\n",
    "        if self.x>0:\n",
    "            defintion=False\n",
    "        elif self.x<=0:\n",
    "            defintion=True\n",
    "        pos=self.canvas.coords(self.id)\n",
    "        if pos[0]<=0 and defintion==True:\n",
    "            self.x=0\n",
    "        elif pos[2]>=self.canvas_width and defintion==False:\n",
    "            self.x=0\n",
    "        self.canvas.move(self.id,self.x,0)\n",
    "        \n",
    "            \n",
    "    def turn_left(self,evt):\n",
    "        self.x=-4\n",
    "        \n",
    "    def turn_right(self,evt):\n",
    "        self.x=4\n",
    "\n",
    "tk=Tk()\n",
    "tk.title(\"Game\")\n",
    "tk.resizable(0,0)\n",
    "tk.wm_attributes(\"-topmost\",1)\n",
    "canvas=Canvas(tk,width=500,height=500,bd=0,highlightthickness=0)\n",
    "canvas.pack()\n",
    "tk.update()\n",
    "\n",
    "paddle=Paddle(canvas,'blue')\n",
    "ball=Ball(canvas,paddle,'red')\n",
    "\n",
    "while 1:\n",
    "    if ball.hit_bottom==False:\n",
    "        ball.draw()\n",
    "        paddle.draw()\n",
    "    tk.update_idletasks()\n",
    "    tk.update()\n",
    "    time.sleep(0.01) "
   ]
  },
  {
   "cell_type": "code",
   "execution_count": null,
   "metadata": {},
   "outputs": [],
   "source": []
  },
  {
   "cell_type": "code",
   "execution_count": null,
   "metadata": {},
   "outputs": [],
   "source": []
  }
 ],
 "metadata": {
  "kernelspec": {
   "display_name": "Python 3",
   "language": "python",
   "name": "python3"
  },
  "language_info": {
   "codemirror_mode": {
    "name": "ipython",
    "version": 3
   },
   "file_extension": ".py",
   "mimetype": "text/x-python",
   "name": "python",
   "nbconvert_exporter": "python",
   "pygments_lexer": "ipython3",
   "version": "3.6.5"
  }
 },
 "nbformat": 4,
 "nbformat_minor": 2
}
